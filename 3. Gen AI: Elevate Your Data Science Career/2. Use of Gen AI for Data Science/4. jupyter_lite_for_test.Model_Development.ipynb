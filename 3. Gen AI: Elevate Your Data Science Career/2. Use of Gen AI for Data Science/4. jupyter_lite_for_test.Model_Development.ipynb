{
  "metadata": {
    "kernelspec": {
      "name": "python",
      "display_name": "Python (Pyodide)",
      "language": "python"
    },
    "language_info": {
      "codemirror_mode": {
        "name": "python",
        "version": 3
      },
      "file_extension": ".py",
      "mimetype": "text/x-python",
      "name": "python",
      "nbconvert_exporter": "python",
      "pygments_lexer": "ipython3",
      "version": "3.8"
    }
  },
  "nbformat_minor": 4,
  "nbformat": 4,
  "cells": [
    {
      "cell_type": "markdown",
      "source": "<p style=\"text-align:center\">\n    <a href=\"https://skills.network\" target=\"_blank\">\n    <img src=\"https://cf-courses-data.s3.us.cloud-object-storage.appdomain.cloud/assets/logos/SN_web_lightmode.png\" width=\"300\" alt=\"Skills Network Logo\">\n    </a>\n</p>\n",
      "metadata": {}
    },
    {
      "cell_type": "markdown",
      "source": "# Test Environment for Generative AI classroom labs\n\nThis lab provides a test environment for the codes generated using the Generative AI classroom.\n\nFollow the instructions below to set up this environment for further use.\n",
      "metadata": {}
    },
    {
      "cell_type": "markdown",
      "source": "# Setup\n",
      "metadata": {}
    },
    {
      "cell_type": "markdown",
      "source": "### Install required libraries\n\nIn case of a requirement of installing certain python libraries for use in your task, you may do so as shown below.\n",
      "metadata": {}
    },
    {
      "cell_type": "code",
      "source": "%pip install seaborn\nimport piplite\n\nawait piplite.install(['nbformat', 'plotly'])",
      "metadata": {
        "trusted": true
      },
      "outputs": [],
      "execution_count": 1
    },
    {
      "cell_type": "markdown",
      "source": "### Dataset URL from the GenAI lab\nUse the URL provided in the GenAI lab in the cell below. \n",
      "metadata": {}
    },
    {
      "cell_type": "code",
      "source": "URL = \"https://cf-courses-data.s3.us.cloud-object-storage.appdomain.cloud/IBMDeveloperSkillsNetwork-DA0101EN-Coursera/laptop_pricing_dataset_mod2.csv\"",
      "metadata": {
        "trusted": true
      },
      "outputs": [],
      "execution_count": 2
    },
    {
      "cell_type": "markdown",
      "source": "### Downloading the dataset\n\nExecute the following code to download the dataset in to the interface.\n\n> Please note that this step is essential in JupyterLite. If you are using a downloaded version of this notebook and running it on JupyterLabs, then you can skip this step and directly use the URL in pandas.read_csv() function to read the dataset as a dataframe\n",
      "metadata": {}
    },
    {
      "cell_type": "code",
      "source": "from pyodide.http import pyfetch\n\nasync def download(url, filename):\n    response = await pyfetch(url)\n    if response.status == 200:\n        with open(filename, \"wb\") as f:\n            f.write(await response.bytes())\n\npath = URL\n\nawait download(path, \"laptop_pricing_dataset_mod2.csv\")",
      "metadata": {
        "trusted": true
      },
      "outputs": [],
      "execution_count": 3
    },
    {
      "cell_type": "markdown",
      "source": "---\n",
      "metadata": {}
    },
    {
      "cell_type": "markdown",
      "source": "# Test Environment\n",
      "metadata": {}
    },
    {
      "cell_type": "code",
      "source": "# Model Development\n# Importing data set\nimport pandas as pd\n\n# Define the file path\nfile_path = 'laptop_pricing_dataset_mod2.csv'\n\n# Read the CSV file into a pandas data frame\ndf = pd.read_csv('laptop_pricing_dataset_mod2.csv', header=0)\ndf.head()",
      "metadata": {
        "trusted": true
      },
      "outputs": [
        {
          "execution_count": 5,
          "output_type": "execute_result",
          "data": {
            "text/plain": "   Unnamed: 0.1  Unnamed: 0 Manufacturer  Category  GPU  OS  CPU_core  \\\n0             0           0         Acer         4    2   1         5   \n1             1           1         Dell         3    1   1         3   \n2             2           2         Dell         3    1   1         7   \n3             3           3         Dell         4    2   1         5   \n4             4           4           HP         4    2   1         7   \n\n   Screen_Size_inch  CPU_frequency  RAM_GB  Storage_GB_SSD  Weight_pounds  \\\n0              14.0       0.551724       8             256        3.52800   \n1              15.6       0.689655       4             256        4.85100   \n2              15.6       0.931034       8             256        4.85100   \n3              13.3       0.551724       8             128        2.69010   \n4              15.6       0.620690       8             256        4.21155   \n\n   Price Price-binned  Screen-Full_HD  Screen-IPS_panel  \n0    978          Low               0                 1  \n1    634          Low               1                 0  \n2    946          Low               1                 0  \n3   1244          Low               0                 1  \n4    837          Low               1                 0  ",
            "text/html": "<div>\n<style scoped>\n    .dataframe tbody tr th:only-of-type {\n        vertical-align: middle;\n    }\n\n    .dataframe tbody tr th {\n        vertical-align: top;\n    }\n\n    .dataframe thead th {\n        text-align: right;\n    }\n</style>\n<table border=\"1\" class=\"dataframe\">\n  <thead>\n    <tr style=\"text-align: right;\">\n      <th></th>\n      <th>Unnamed: 0.1</th>\n      <th>Unnamed: 0</th>\n      <th>Manufacturer</th>\n      <th>Category</th>\n      <th>GPU</th>\n      <th>OS</th>\n      <th>CPU_core</th>\n      <th>Screen_Size_inch</th>\n      <th>CPU_frequency</th>\n      <th>RAM_GB</th>\n      <th>Storage_GB_SSD</th>\n      <th>Weight_pounds</th>\n      <th>Price</th>\n      <th>Price-binned</th>\n      <th>Screen-Full_HD</th>\n      <th>Screen-IPS_panel</th>\n    </tr>\n  </thead>\n  <tbody>\n    <tr>\n      <th>0</th>\n      <td>0</td>\n      <td>0</td>\n      <td>Acer</td>\n      <td>4</td>\n      <td>2</td>\n      <td>1</td>\n      <td>5</td>\n      <td>14.0</td>\n      <td>0.551724</td>\n      <td>8</td>\n      <td>256</td>\n      <td>3.52800</td>\n      <td>978</td>\n      <td>Low</td>\n      <td>0</td>\n      <td>1</td>\n    </tr>\n    <tr>\n      <th>1</th>\n      <td>1</td>\n      <td>1</td>\n      <td>Dell</td>\n      <td>3</td>\n      <td>1</td>\n      <td>1</td>\n      <td>3</td>\n      <td>15.6</td>\n      <td>0.689655</td>\n      <td>4</td>\n      <td>256</td>\n      <td>4.85100</td>\n      <td>634</td>\n      <td>Low</td>\n      <td>1</td>\n      <td>0</td>\n    </tr>\n    <tr>\n      <th>2</th>\n      <td>2</td>\n      <td>2</td>\n      <td>Dell</td>\n      <td>3</td>\n      <td>1</td>\n      <td>1</td>\n      <td>7</td>\n      <td>15.6</td>\n      <td>0.931034</td>\n      <td>8</td>\n      <td>256</td>\n      <td>4.85100</td>\n      <td>946</td>\n      <td>Low</td>\n      <td>1</td>\n      <td>0</td>\n    </tr>\n    <tr>\n      <th>3</th>\n      <td>3</td>\n      <td>3</td>\n      <td>Dell</td>\n      <td>4</td>\n      <td>2</td>\n      <td>1</td>\n      <td>5</td>\n      <td>13.3</td>\n      <td>0.551724</td>\n      <td>8</td>\n      <td>128</td>\n      <td>2.69010</td>\n      <td>1244</td>\n      <td>Low</td>\n      <td>0</td>\n      <td>1</td>\n    </tr>\n    <tr>\n      <th>4</th>\n      <td>4</td>\n      <td>4</td>\n      <td>HP</td>\n      <td>4</td>\n      <td>2</td>\n      <td>1</td>\n      <td>7</td>\n      <td>15.6</td>\n      <td>0.620690</td>\n      <td>8</td>\n      <td>256</td>\n      <td>4.21155</td>\n      <td>837</td>\n      <td>Low</td>\n      <td>1</td>\n      <td>0</td>\n    </tr>\n  </tbody>\n</table>\n</div>"
          },
          "metadata": {}
        }
      ],
      "execution_count": 5
    },
    {
      "cell_type": "code",
      "source": "# Model Development\n# Importing data set\nimport pandas as pd\n\ndata = pd.read_csv('laptop_pricing_dataset_mod2.csv', header=0)\nprint(df)",
      "metadata": {
        "trusted": true
      },
      "outputs": [
        {
          "name": "stdout",
          "text": "     Unnamed: 0.1  Unnamed: 0 Manufacturer  Category  GPU  OS  CPU_core  \\\n0               0           0         Acer         4    2   1         5   \n1               1           1         Dell         3    1   1         3   \n2               2           2         Dell         3    1   1         7   \n3               3           3         Dell         4    2   1         5   \n4               4           4           HP         4    2   1         7   \n..            ...         ...          ...       ...  ...  ..       ...   \n233           233         233       Lenovo         4    2   1         7   \n234           234         234      Toshiba         3    2   1         5   \n235           235         235       Lenovo         4    2   1         5   \n236           236         236       Lenovo         3    3   1         5   \n237           237         237      Toshiba         3    2   1         5   \n\n     Screen_Size_inch  CPU_frequency  RAM_GB  Storage_GB_SSD  Weight_pounds  \\\n0                14.0       0.551724       8             256        3.52800   \n1                15.6       0.689655       4             256        4.85100   \n2                15.6       0.931034       8             256        4.85100   \n3                13.3       0.551724       8             128        2.69010   \n4                15.6       0.620690       8             256        4.21155   \n..                ...            ...     ...             ...            ...   \n233              14.0       0.896552       8             256        3.74850   \n234              13.3       0.827586       8             256        2.64600   \n235              12.0       0.896552       8             256        2.99880   \n236              15.6       0.862069       6             256        5.29200   \n237              14.0       0.793103       8             256        4.29975   \n\n     Price Price-binned  Screen-Full_HD  Screen-IPS_panel  \n0      978          Low               0                 1  \n1      634          Low               1                 0  \n2      946          Low               1                 0  \n3     1244          Low               0                 1  \n4      837          Low               1                 0  \n..     ...          ...             ...               ...  \n233   1891       Medium               0                 1  \n234   1950       Medium               1                 0  \n235   2236       Medium               0                 1  \n236    883          Low               1                 0  \n237   1499          Low               1                 0  \n\n[238 rows x 16 columns]\n",
          "output_type": "stream"
        }
      ],
      "execution_count": 6
    },
    {
      "cell_type": "code",
      "source": "# Model Development\n# Linear regression in one variable\nfrom sklearn.linear_model import LinearRegression\nfrom sklearn.metrics import mean_squared_error, r2_score\n\n# Assuming 'source_column' is the source variable and 'target_column' is the target variable\nX = df[['CPU_frequency']]\ny = df['Price']\n\n# Initialize the linear regression model\nmodel = LinearRegression()\n\n# Train the model using the source and target variables\nmodel.fit(X, y)\n\n# Make predictions using the trained model\ny_pred = model.predict(X)\n\n# Calculate MSE and R^2\nmse = mean_squared_error(y, y_pred)\nr2 = r2_score(y, y_pred)\n\nprint('Mean Squared Error:', mse)\nprint('R^2 Score:', r2)",
      "metadata": {
        "trusted": true
      },
      "outputs": [
        {
          "name": "stdout",
          "text": "Mean Squared Error: 284583.44058686297\nR^2 Score: 0.13444363210243238\n",
          "output_type": "stream"
        }
      ],
      "execution_count": 7
    },
    {
      "cell_type": "code",
      "source": "# Model Development\n# Linear regression in multiple variables\nfrom sklearn.linear_model import LinearRegression\nfrom sklearn.metrics import mean_squared_error, r2_score\n\n# Assume you have a pandas data frame called 'data_frame' with multiple columns: 'source_variable_1', 'source_variable_2', ..., 'target_variable'\n# Extract the source variables and target variable from the data frame\nX = df[['CPU_frequency', 'RAM_GB', 'Storage_GB_SSD', 'CPU_core', 'OS', 'GPU', 'Category']]\ny = df['Price']\n\n# Create and train the linear regression model\nmodel = LinearRegression()\nmodel.fit(X, y)\n\n# Make predictions using the trained model \ny_pred = model.predict(X)\n\n# Calculate the mean squared error (MSE) & coefficient of determination (R^2)\nmse = mean_squared_error(y, y_pred)\nr2 = r2_score(y, y_pred)\n\nprint(\"Mean Squared Error (MSE):\", mse)\nprint(\"Coefficient of Determination (R^2):\", r2)",
      "metadata": {
        "trusted": true
      },
      "outputs": [
        {
          "name": "stdout",
          "text": "Mean Squared Error (MSE): 161680.57263893107\nCoefficient of Determination (R^2): 0.5082509055187374\n",
          "output_type": "stream"
        }
      ],
      "execution_count": 8
    },
    {
      "cell_type": "code",
      "source": "# Model Development\n# Polynomial Regression\nimport numpy as np\nfrom sklearn.linear_model import LinearRegression\nfrom sklearn.preprocessing import PolynomialFeatures\nfrom sklearn.metrics import mean_squared_error, r2_score\n\n# Assuming 'source_column' and 'target_column' are the columns used as source and target variables\n# Extract the source variable and target variable from the data frame\ndef polynomial_regression(df, CPU_frequency, Price, degrees=[2, 3, 5]):\n    X = df[['CPU_frequency']]\n    y = df['Price']\n    results = {}\n    # Initialize lists to store the MSE and R^2 values for each model\n    mse = []\n    r2 = []\n\n    # Loop through the polynomial orders\n    for degree in degrees:\n        # Create polynomial features & Initialize a linear regression model\n        poly_features = PolynomialFeatures(degree=degree)\n        X_poly = poly_features.fit_transform(X)\n        model = LinearRegression()\n        # Train the model using the polynomial features and target variable\n        model.fit(X_poly, y)\n        # Make predictions using the trained model\n        y_pred = model.predict(X_poly)\n        # Calculate the mean squared error (MSE) & the coefficient of determination (R^2)\n        mse = mean_squared_error(y, y_pred)\n        r2 = r2_score(y, y_pred)\n        results[f'Degree {degree}'] = {'Mean Squared Error': mse, 'R^2': r2}\n    return results\n\nresults = polynomial_regression(df, 'source_column', 'target_column')\nfor degree, values in results.items():\n    # Display the MSE and R^2 values for the current model\n    print(f'Polynomial Order {degree}:')\n    print('Mean Squared Error:', values['Mean Squared Error'])\n    print('R^2:', values['R^2'])\n    \n# Compare the performance of the models\nbest_order = np.argmin(mse)\nworst_order = np.argmax(r2)\n\nprint(\"Model Comparison:\")\nprint(f\"Best Polynomial Order: {best_order + 2}\")\nprint(f\"Worst Polynomial Order: {worst_order + 2}\")",
      "metadata": {
        "trusted": true
      },
      "outputs": [
        {
          "name": "stdout",
          "text": "Polynomial Order Degree 2:\nMean Squared Error: 249022.66596751186\nR^2: 0.2426012074542374\nPolynomial Order Degree 3:\nMean Squared Error: 241024.863038488\nR^2: 0.2669264079653102\nPolynomial Order Degree 5:\nMean Squared Error: 229137.29548054413\nR^2: 0.30308227064436244\nModel Comparison:\nBest Polynomial Order: 2\nWorst Polynomial Order: 2\n",
          "output_type": "stream"
        }
      ],
      "execution_count": 9
    },
    {
      "cell_type": "code",
      "source": "# Compare the performance of the models\ndef compare_models_performance(results):\n    for degree, values in results.items():\n        print(f'Polynomial Order {degree}:')\n        print('Mean Squared Error:', values['Mean Squared Error'])\n        print('R^2:', values['R^2'])\n\ncompare_models_performance(results)",
      "metadata": {
        "trusted": true
      },
      "outputs": [
        {
          "name": "stdout",
          "text": "Polynomial Order Degree 2:\nMean Squared Error: 249022.66596751186\nR^2: 0.2426012074542374\nPolynomial Order Degree 3:\nMean Squared Error: 241024.863038488\nR^2: 0.2669264079653102\nPolynomial Order Degree 5:\nMean Squared Error: 229137.29548054413\nR^2: 0.30308227064436244\n",
          "output_type": "stream"
        }
      ],
      "execution_count": 10
    },
    {
      "cell_type": "code",
      "source": "# Model Development\n# Creating a Pipeline\nfrom sklearn.pipeline import Pipeline\nfrom sklearn.preprocessing import StandardScaler, PolynomialFeatures\nfrom sklearn.linear_model import LinearRegression\nfrom sklearn.metrics import mean_squared_error, r2_score\n\n# Assume you have a pandas data frame called 'data_frame' with multiple columns: 'source_variable_1', 'source_variable_2', ..., 'target_variable'\n# Extract the source variables and target variable from the data frame\nX = df[['CPU_frequency', 'RAM_GB', 'Storage_GB_SSD', 'CPU_core', 'OS', 'GPU', 'Category']]\ny = df['Price']\n\n# Create a pipeline that performs parameter scaling, polynomial feature generation, and linear regression\npipeline = Pipeline([\n('scaler', StandardScaler()),\n('poly_features', PolynomialFeatures(degree=3)),\n('linear_reg', LinearRegression())\n])\n\n# Train the model using the source and target variables\npipeline.fit(X, y)\n\n# Make predictions using the trained model\ny_pred = pipeline.predict(X)\n\n# Calculate the mean squared error (MSE) & coefficient of determination (R^2)\nmse = mean_squared_error(y, y_pred)\nr2 = r2_score(y, y_pred)\n\n# Display the MSE and R^2 values\nprint(\"Mean Squared Error (MSE):\", mse)\nprint(\"Coefficient of Determination (R^2):\", r2)",
      "metadata": {
        "trusted": true
      },
      "outputs": [
        {
          "name": "stdout",
          "text": "Mean Squared Error (MSE): 91018.05777310925\nCoefficient of Determination (R^2): 0.7231699098980529\n",
          "output_type": "stream"
        }
      ],
      "execution_count": 11
    },
    {
      "cell_type": "code",
      "source": "# Model Development\n# Grid search and Ridge regression\nfrom sklearn.model_selection import GridSearchCV, cross_val_score\nfrom sklearn.preprocessing import PolynomialFeatures\nfrom sklearn.linear_model import Ridge\nfrom sklearn.metrics import mean_squared_error, r2_score\n\n# Assume you have a pandas data frame called 'data_frame' with multiple columns: 'source_variable_1', 'source_variable_2', ..., 'target_variable'\n# Extract the source variables and target variable from the data frame\nX = df[['CPU_frequency', 'RAM_GB', 'Storage_GB_SSD', 'CPU_core', 'OS', 'GPU', 'Category']]\ny = df['Price']\n\n# Create polynomial features & Transform the source variables into polynomial features\npolynomial_features = PolynomialFeatures(degree=2)\nX_poly = polynomial_features.fit_transform(X)\n\n# Initialize a ridge regression model\nridge = Ridge()\n\n# Set up the hyperparameters to search\nparam_grid = {\n    'alpha': [0.0001,0.001,0.01, 0.1, 1, 10]\n}\n\n# Perform grid search with cross-validation\ngrid_search = GridSearchCV(ridge, param_grid, cv=4)\n\n# Train the model using the polynomial features and target variable\ngrid_search.fit(X_poly, y)\n\n# Get the best model\nbest_model = grid_search.best_estimator_ \n\n# Make predictions using the trained model\ny_pred = best_model.predict(X_poly)\n\n# Calculate the mean squared error (MSE) & coefficient of determination (R^2)\nmse = mean_squared_error(y, y_pred)\nr2 = r2_score(y, y_pred)\n\n# Display the MSE and R^2 values\nprint(\"Mean Squared Error (MSE):\", mse)\nprint(\"Coefficient of Determination (R^2):\", r2)",
      "metadata": {
        "trusted": true
      },
      "outputs": [
        {
          "name": "stdout",
          "text": "Mean Squared Error (MSE): 128987.04078699532\nCoefficient of Determination (R^2): 0.6076878039733669\n",
          "output_type": "stream"
        }
      ],
      "execution_count": 12
    },
    {
      "cell_type": "markdown",
      "source": "## Authors\n",
      "metadata": {}
    },
    {
      "cell_type": "markdown",
      "source": "[Abhishek Gagneja](https://www.linkedin.com/in/abhishek-gagneja-23051987/)\n",
      "metadata": {}
    },
    {
      "cell_type": "markdown",
      "source": "## Change Log\n",
      "metadata": {}
    },
    {
      "cell_type": "markdown",
      "source": "|Date (YYYY-MM-DD)|Version|Changed By|Change Description|\n|-|-|-|-|\n|2023-12-10|0.1|Abhishek Gagneja|Initial Draft created|\n",
      "metadata": {}
    },
    {
      "cell_type": "markdown",
      "source": "Copyright © 2023 IBM Corporation. All rights reserved.\n",
      "metadata": {}
    }
  ]
}